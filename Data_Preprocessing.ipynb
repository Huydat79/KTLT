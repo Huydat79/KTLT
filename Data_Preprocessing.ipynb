{
 "cells": [
  {
   "cell_type": "markdown",
   "metadata": {
    "id": "TLTr0ccDf-O6"
   },
   "source": [
    "# Các nội dung chính\n",
    "1. Mục tiêu:\n",
    "*   Nắm được các bước cơ bản trong khâu tiền xử lí dữ liệu.\n",
    "\n",
    "\n",
    "2. Dữ liệu:\n",
    "* Dữ liệu bất động sản - *Bengaluru_House_Data*\n",
    "> Gồm các trường dữ liệu: location, size, total_sqft, price, ...\n",
    "\n",
    "\n",
    "> Link Kaggle: https://www.kaggle.com/amitabhajoy/bengaluru-house-price-data\n",
    "\n",
    "\n",
    "\n",
    "\n",
    "3. Yêu cầu:\n",
    "* Sử dụng các công cụ (Pandas, Seaborn, ...) để thực hiện xem xét, đánh giá đặc điểm của dữ liệu, từ đó đưa ra phương án tiền xử lí dữ liệu (làm sạch, trích xuất thông tin ban đầu, ...)\n",
    "\n",
    "\n"
   ]
  },
  {
   "cell_type": "markdown",
   "metadata": {
    "id": "_uIzmF7Hc_sG"
   },
   "source": [
    "# Nội dung thực hành"
   ]
  },
  {
   "cell_type": "code",
   "execution_count": null,
   "metadata": {
    "id": "d5dr9LM66Q5J"
   },
   "outputs": [],
   "source": [
    "#Nếu chạy trên Google Colab thì cần kết nối với máy chủ trước\n",
    "from google.colab import drive\n",
    "drive.mount('/content/drive')"
   ]
  },
  {
   "cell_type": "markdown",
   "metadata": {
    "id": "oDZT1ynvSRfY"
   },
   "source": [
    "### Chuẩn bị các thư viện cần thiết"
   ]
  },
  {
   "cell_type": "code",
   "execution_count": null,
   "metadata": {
    "id": "OkPXjMyZQ-Q0",
    "jupyter": {
     "is_executing": true
    }
   },
   "outputs": [],
   "source": [
    "import numpy as np #Làm việc với các dữ liệu mảng nhiều chiều\n",
    "import pandas as pd #Giúp làm việc với các dữ liệu dạng bảng\n",
    "import matplotlib.pyplot as plt #Thư viện hỗ trợ trực quan hóa dữ liệu\n",
    "import seaborn as sns #Thư viện giúp trực quan hóa dữ liệu, được xây trên matplotlib"
   ]
  },
  {
   "cell_type": "markdown",
   "metadata": {
    "id": "AFDpgDYCSWGB"
   },
   "source": [
    "### Load dữ liệu từ file đã tải về"
   ]
  },
  {
   "cell_type": "markdown",
   "metadata": {
    "id": "niBVXIL2eMgz"
   },
   "source": [
    "1. Đọc dữ liệu bằng pandas, dạng dataframe"
   ]
  },
  {
   "cell_type": "code",
   "execution_count": null,
   "metadata": {
    "id": "tCEOyZu77rXU"
   },
   "outputs": [],
   "source": [
    "%cd /content/drive/MyDrive/ML_course/Preprocessing_practice/Practice/Bangalore_House_Price_data\n",
    "# Nếu chạy trên colab thì cũng cần trỏ tới thư mục phù hợp để lấy data\n",
    "# cd DIR_PATH"
   ]
  },
  {
   "cell_type": "code",
   "execution_count": 6,
   "metadata": {
    "id": "ZhD-jJYtSVkh"
   },
   "outputs": [
    {
     "data": {
      "text/plain": [
       "(13320, 9)"
      ]
     },
     "execution_count": 6,
     "metadata": {},
     "output_type": "execute_result"
    }
   ],
   "source": [
    "path = 'Bangalore_House_Price_data/Bengaluru_House_Data.csv'\n",
    "df_raw = pd.read_csv(path, delimiter=',')\n",
    "df_raw.shape"
   ]
  },
  {
   "cell_type": "markdown",
   "metadata": {
    "id": "vDSFU9SKeMg5"
   },
   "source": [
    "2. Review 5 sample đầu tiên"
   ]
  },
  {
   "cell_type": "code",
   "execution_count": 4,
   "metadata": {
    "id": "K2ZuGoHddACU"
   },
   "outputs": [
    {
     "data": {
      "text/html": [
       "<div>\n",
       "<style scoped>\n",
       "    .dataframe tbody tr th:only-of-type {\n",
       "        vertical-align: middle;\n",
       "    }\n",
       "\n",
       "    .dataframe tbody tr th {\n",
       "        vertical-align: top;\n",
       "    }\n",
       "\n",
       "    .dataframe thead th {\n",
       "        text-align: right;\n",
       "    }\n",
       "</style>\n",
       "<table border=\"1\" class=\"dataframe\">\n",
       "  <thead>\n",
       "    <tr style=\"text-align: right;\">\n",
       "      <th></th>\n",
       "      <th>area_type</th>\n",
       "      <th>availability</th>\n",
       "      <th>location</th>\n",
       "      <th>size</th>\n",
       "      <th>society</th>\n",
       "      <th>total_sqft</th>\n",
       "      <th>bath</th>\n",
       "      <th>balcony</th>\n",
       "      <th>price</th>\n",
       "    </tr>\n",
       "  </thead>\n",
       "  <tbody>\n",
       "    <tr>\n",
       "      <th>0</th>\n",
       "      <td>Super built-up  Area</td>\n",
       "      <td>19-Dec</td>\n",
       "      <td>Electronic City Phase II</td>\n",
       "      <td>2 BHK</td>\n",
       "      <td>Coomee</td>\n",
       "      <td>1056</td>\n",
       "      <td>2.0</td>\n",
       "      <td>1.0</td>\n",
       "      <td>39.07</td>\n",
       "    </tr>\n",
       "    <tr>\n",
       "      <th>1</th>\n",
       "      <td>Plot  Area</td>\n",
       "      <td>Ready To Move</td>\n",
       "      <td>Chikka Tirupathi</td>\n",
       "      <td>4 Bedroom</td>\n",
       "      <td>Theanmp</td>\n",
       "      <td>2600</td>\n",
       "      <td>5.0</td>\n",
       "      <td>3.0</td>\n",
       "      <td>120.00</td>\n",
       "    </tr>\n",
       "    <tr>\n",
       "      <th>2</th>\n",
       "      <td>Built-up  Area</td>\n",
       "      <td>Ready To Move</td>\n",
       "      <td>Uttarahalli</td>\n",
       "      <td>3 BHK</td>\n",
       "      <td>NaN</td>\n",
       "      <td>1440</td>\n",
       "      <td>2.0</td>\n",
       "      <td>3.0</td>\n",
       "      <td>62.00</td>\n",
       "    </tr>\n",
       "    <tr>\n",
       "      <th>3</th>\n",
       "      <td>Super built-up  Area</td>\n",
       "      <td>Ready To Move</td>\n",
       "      <td>Lingadheeranahalli</td>\n",
       "      <td>3 BHK</td>\n",
       "      <td>Soiewre</td>\n",
       "      <td>1521</td>\n",
       "      <td>3.0</td>\n",
       "      <td>1.0</td>\n",
       "      <td>95.00</td>\n",
       "    </tr>\n",
       "    <tr>\n",
       "      <th>4</th>\n",
       "      <td>Super built-up  Area</td>\n",
       "      <td>Ready To Move</td>\n",
       "      <td>Kothanur</td>\n",
       "      <td>2 BHK</td>\n",
       "      <td>NaN</td>\n",
       "      <td>1200</td>\n",
       "      <td>2.0</td>\n",
       "      <td>1.0</td>\n",
       "      <td>51.00</td>\n",
       "    </tr>\n",
       "  </tbody>\n",
       "</table>\n",
       "</div>"
      ],
      "text/plain": [
       "              area_type   availability                  location       size  \\\n",
       "0  Super built-up  Area         19-Dec  Electronic City Phase II      2 BHK   \n",
       "1            Plot  Area  Ready To Move          Chikka Tirupathi  4 Bedroom   \n",
       "2        Built-up  Area  Ready To Move               Uttarahalli      3 BHK   \n",
       "3  Super built-up  Area  Ready To Move        Lingadheeranahalli      3 BHK   \n",
       "4  Super built-up  Area  Ready To Move                  Kothanur      2 BHK   \n",
       "\n",
       "   society total_sqft  bath  balcony   price  \n",
       "0  Coomee        1056   2.0      1.0   39.07  \n",
       "1  Theanmp       2600   5.0      3.0  120.00  \n",
       "2      NaN       1440   2.0      3.0   62.00  \n",
       "3  Soiewre       1521   3.0      1.0   95.00  \n",
       "4      NaN       1200   2.0      1.0   51.00  "
      ]
     },
     "execution_count": 4,
     "metadata": {},
     "output_type": "execute_result"
    }
   ],
   "source": [
    "df_raw.head() # return DataFrame"
   ]
  },
  {
   "cell_type": "markdown",
   "metadata": {
    "id": "qBp_0JM7eMg_"
   },
   "source": [
    "3. Review 5 sample cuối cùng"
   ]
  },
  {
   "cell_type": "code",
   "execution_count": 5,
   "metadata": {
    "id": "sqUihl5AdKVi"
   },
   "outputs": [
    {
     "data": {
      "text/html": [
       "<div>\n",
       "<style scoped>\n",
       "    .dataframe tbody tr th:only-of-type {\n",
       "        vertical-align: middle;\n",
       "    }\n",
       "\n",
       "    .dataframe tbody tr th {\n",
       "        vertical-align: top;\n",
       "    }\n",
       "\n",
       "    .dataframe thead th {\n",
       "        text-align: right;\n",
       "    }\n",
       "</style>\n",
       "<table border=\"1\" class=\"dataframe\">\n",
       "  <thead>\n",
       "    <tr style=\"text-align: right;\">\n",
       "      <th></th>\n",
       "      <th>area_type</th>\n",
       "      <th>availability</th>\n",
       "      <th>location</th>\n",
       "      <th>size</th>\n",
       "      <th>society</th>\n",
       "      <th>total_sqft</th>\n",
       "      <th>bath</th>\n",
       "      <th>balcony</th>\n",
       "      <th>price</th>\n",
       "    </tr>\n",
       "  </thead>\n",
       "  <tbody>\n",
       "    <tr>\n",
       "      <th>13315</th>\n",
       "      <td>Built-up  Area</td>\n",
       "      <td>Ready To Move</td>\n",
       "      <td>Whitefield</td>\n",
       "      <td>5 Bedroom</td>\n",
       "      <td>ArsiaEx</td>\n",
       "      <td>3453</td>\n",
       "      <td>4.0</td>\n",
       "      <td>0.0</td>\n",
       "      <td>231.0</td>\n",
       "    </tr>\n",
       "    <tr>\n",
       "      <th>13316</th>\n",
       "      <td>Super built-up  Area</td>\n",
       "      <td>Ready To Move</td>\n",
       "      <td>Richards Town</td>\n",
       "      <td>4 BHK</td>\n",
       "      <td>NaN</td>\n",
       "      <td>3600</td>\n",
       "      <td>5.0</td>\n",
       "      <td>NaN</td>\n",
       "      <td>400.0</td>\n",
       "    </tr>\n",
       "    <tr>\n",
       "      <th>13317</th>\n",
       "      <td>Built-up  Area</td>\n",
       "      <td>Ready To Move</td>\n",
       "      <td>Raja Rajeshwari Nagar</td>\n",
       "      <td>2 BHK</td>\n",
       "      <td>Mahla T</td>\n",
       "      <td>1141</td>\n",
       "      <td>2.0</td>\n",
       "      <td>1.0</td>\n",
       "      <td>60.0</td>\n",
       "    </tr>\n",
       "    <tr>\n",
       "      <th>13318</th>\n",
       "      <td>Super built-up  Area</td>\n",
       "      <td>18-Jun</td>\n",
       "      <td>Padmanabhanagar</td>\n",
       "      <td>4 BHK</td>\n",
       "      <td>SollyCl</td>\n",
       "      <td>4689</td>\n",
       "      <td>4.0</td>\n",
       "      <td>1.0</td>\n",
       "      <td>488.0</td>\n",
       "    </tr>\n",
       "    <tr>\n",
       "      <th>13319</th>\n",
       "      <td>Super built-up  Area</td>\n",
       "      <td>Ready To Move</td>\n",
       "      <td>Doddathoguru</td>\n",
       "      <td>1 BHK</td>\n",
       "      <td>NaN</td>\n",
       "      <td>550</td>\n",
       "      <td>1.0</td>\n",
       "      <td>1.0</td>\n",
       "      <td>17.0</td>\n",
       "    </tr>\n",
       "  </tbody>\n",
       "</table>\n",
       "</div>"
      ],
      "text/plain": [
       "                  area_type   availability               location       size  \\\n",
       "13315        Built-up  Area  Ready To Move             Whitefield  5 Bedroom   \n",
       "13316  Super built-up  Area  Ready To Move          Richards Town      4 BHK   \n",
       "13317        Built-up  Area  Ready To Move  Raja Rajeshwari Nagar      2 BHK   \n",
       "13318  Super built-up  Area         18-Jun        Padmanabhanagar      4 BHK   \n",
       "13319  Super built-up  Area  Ready To Move           Doddathoguru      1 BHK   \n",
       "\n",
       "       society total_sqft  bath  balcony  price  \n",
       "13315  ArsiaEx       3453   4.0      0.0  231.0  \n",
       "13316      NaN       3600   5.0      NaN  400.0  \n",
       "13317  Mahla T       1141   2.0      1.0   60.0  \n",
       "13318  SollyCl       4689   4.0      1.0  488.0  \n",
       "13319      NaN        550   1.0      1.0   17.0  "
      ]
     },
     "execution_count": 5,
     "metadata": {},
     "output_type": "execute_result"
    }
   ],
   "source": [
    "df_raw.tail()"
   ]
  },
  {
   "cell_type": "markdown",
   "metadata": {
    "id": "phcXj_mudWaD"
   },
   "source": [
    "### Exploratory Data Analysis (EDA)"
   ]
  },
  {
   "cell_type": "code",
   "execution_count": 7,
   "metadata": {
    "id": "UZsRiyVVdVjY"
   },
   "outputs": [],
   "source": [
    "df = df_raw.copy() #Tạo bản sao để thực hiện EDA"
   ]
  },
  {
   "cell_type": "markdown",
   "metadata": {
    "id": "HX_oh2EkeMhD"
   },
   "source": [
    "1. Thông tin cơ bản về dữ liệu, tên trường, số giá trị non-null của từng trường, kiểu dữ liệu của từng trường"
   ]
  },
  {
   "cell_type": "code",
   "execution_count": 7,
   "metadata": {
    "id": "r37N_FTKdO5o",
    "scrolled": true
   },
   "outputs": [
    {
     "name": "stdout",
     "output_type": "stream",
     "text": [
      "<class 'pandas.core.frame.DataFrame'>\n",
      "RangeIndex: 13320 entries, 0 to 13319\n",
      "Data columns (total 9 columns):\n",
      " #   Column        Non-Null Count  Dtype  \n",
      "---  ------        --------------  -----  \n",
      " 0   area_type     13320 non-null  object \n",
      " 1   availability  13320 non-null  object \n",
      " 2   location      13319 non-null  object \n",
      " 3   size          13304 non-null  object \n",
      " 4   society       7818 non-null   object \n",
      " 5   total_sqft    13320 non-null  object \n",
      " 6   bath          13247 non-null  float64\n",
      " 7   balcony       12711 non-null  float64\n",
      " 8   price         13320 non-null  float64\n",
      "dtypes: float64(3), object(6)\n",
      "memory usage: 936.7+ KB\n"
     ]
    }
   ],
   "source": [
    "df.info()"
   ]
  },
  {
   "cell_type": "markdown",
   "metadata": {
    "id": "1RCu8-CFeMhF"
   },
   "source": [
    "2. Thống kê 1 số thuộc tính cơ bản của dữ liệu, bao gồm count, mean, std, min, max, quartile"
   ]
  },
  {
   "cell_type": "code",
   "execution_count": 8,
   "metadata": {
    "id": "T6h2p8PsdrEa"
   },
   "outputs": [
    {
     "data": {
      "text/html": [
       "<div>\n",
       "<style scoped>\n",
       "    .dataframe tbody tr th:only-of-type {\n",
       "        vertical-align: middle;\n",
       "    }\n",
       "\n",
       "    .dataframe tbody tr th {\n",
       "        vertical-align: top;\n",
       "    }\n",
       "\n",
       "    .dataframe thead th {\n",
       "        text-align: right;\n",
       "    }\n",
       "</style>\n",
       "<table border=\"1\" class=\"dataframe\">\n",
       "  <thead>\n",
       "    <tr style=\"text-align: right;\">\n",
       "      <th></th>\n",
       "      <th>bath</th>\n",
       "      <th>balcony</th>\n",
       "      <th>price</th>\n",
       "    </tr>\n",
       "  </thead>\n",
       "  <tbody>\n",
       "    <tr>\n",
       "      <th>count</th>\n",
       "      <td>13247.000000</td>\n",
       "      <td>12711.000000</td>\n",
       "      <td>13320.000000</td>\n",
       "    </tr>\n",
       "    <tr>\n",
       "      <th>mean</th>\n",
       "      <td>2.692610</td>\n",
       "      <td>1.584376</td>\n",
       "      <td>112.565627</td>\n",
       "    </tr>\n",
       "    <tr>\n",
       "      <th>std</th>\n",
       "      <td>1.341458</td>\n",
       "      <td>0.817263</td>\n",
       "      <td>148.971674</td>\n",
       "    </tr>\n",
       "    <tr>\n",
       "      <th>min</th>\n",
       "      <td>1.000000</td>\n",
       "      <td>0.000000</td>\n",
       "      <td>8.000000</td>\n",
       "    </tr>\n",
       "    <tr>\n",
       "      <th>25%</th>\n",
       "      <td>2.000000</td>\n",
       "      <td>1.000000</td>\n",
       "      <td>50.000000</td>\n",
       "    </tr>\n",
       "    <tr>\n",
       "      <th>50%</th>\n",
       "      <td>2.000000</td>\n",
       "      <td>2.000000</td>\n",
       "      <td>72.000000</td>\n",
       "    </tr>\n",
       "    <tr>\n",
       "      <th>75%</th>\n",
       "      <td>3.000000</td>\n",
       "      <td>2.000000</td>\n",
       "      <td>120.000000</td>\n",
       "    </tr>\n",
       "    <tr>\n",
       "      <th>max</th>\n",
       "      <td>40.000000</td>\n",
       "      <td>3.000000</td>\n",
       "      <td>3600.000000</td>\n",
       "    </tr>\n",
       "  </tbody>\n",
       "</table>\n",
       "</div>"
      ],
      "text/plain": [
       "               bath       balcony         price\n",
       "count  13247.000000  12711.000000  13320.000000\n",
       "mean       2.692610      1.584376    112.565627\n",
       "std        1.341458      0.817263    148.971674\n",
       "min        1.000000      0.000000      8.000000\n",
       "25%        2.000000      1.000000     50.000000\n",
       "50%        2.000000      2.000000     72.000000\n",
       "75%        3.000000      2.000000    120.000000\n",
       "max       40.000000      3.000000   3600.000000"
      ]
     },
     "execution_count": 8,
     "metadata": {},
     "output_type": "execute_result"
    }
   ],
   "source": [
    "df.describe()"
   ]
  },
  {
   "cell_type": "markdown",
   "metadata": {
    "id": "CpaCNh31eMhK"
   },
   "source": [
    "3. Thống kê các giá trị duy nhất của từng trường và số lần xuất hiện của chúng"
   ]
  },
  {
   "cell_type": "code",
   "execution_count": 9,
   "metadata": {
    "id": "FzagHR78eQOJ"
   },
   "outputs": [
    {
     "name": "stdout",
     "output_type": "stream",
     "text": [
      "area_type\n",
      "Super built-up  Area    8790\n",
      "Built-up  Area          2418\n",
      "Plot  Area              2025\n",
      "Carpet  Area              87\n",
      "Name: count, dtype: int64\n",
      "--------------------------------\n",
      "availability\n",
      "Ready To Move    10581\n",
      "18-Dec             307\n",
      "18-May             295\n",
      "18-Apr             271\n",
      "18-Aug             200\n",
      "                 ...  \n",
      "15-Aug               1\n",
      "17-Jan               1\n",
      "16-Nov               1\n",
      "16-Jan               1\n",
      "14-Jul               1\n",
      "Name: count, Length: 81, dtype: int64\n",
      "--------------------------------\n",
      "location\n",
      "Whitefield                        540\n",
      "Sarjapur  Road                    399\n",
      "Electronic City                   302\n",
      "Kanakpura Road                    273\n",
      "Thanisandra                       234\n",
      "                                 ... \n",
      "Bapuji Layout                       1\n",
      "1st Stage Radha Krishna Layout      1\n",
      "BEML Layout 5th stage               1\n",
      "singapura paradise                  1\n",
      "Abshot Layout                       1\n",
      "Name: count, Length: 1305, dtype: int64\n",
      "--------------------------------\n",
      "size\n",
      "2 BHK         5199\n",
      "3 BHK         4310\n",
      "4 Bedroom      826\n",
      "4 BHK          591\n",
      "3 Bedroom      547\n",
      "1 BHK          538\n",
      "2 Bedroom      329\n",
      "5 Bedroom      297\n",
      "6 Bedroom      191\n",
      "1 Bedroom      105\n",
      "8 Bedroom       84\n",
      "7 Bedroom       83\n",
      "5 BHK           59\n",
      "9 Bedroom       46\n",
      "6 BHK           30\n",
      "7 BHK           17\n",
      "1 RK            13\n",
      "10 Bedroom      12\n",
      "9 BHK            8\n",
      "8 BHK            5\n",
      "11 BHK           2\n",
      "11 Bedroom       2\n",
      "10 BHK           2\n",
      "14 BHK           1\n",
      "13 BHK           1\n",
      "12 Bedroom       1\n",
      "27 BHK           1\n",
      "43 Bedroom       1\n",
      "16 BHK           1\n",
      "19 BHK           1\n",
      "18 Bedroom       1\n",
      "Name: count, dtype: int64\n",
      "--------------------------------\n",
      "society\n",
      "GrrvaGr    80\n",
      "PrarePa    76\n",
      "Sryalan    59\n",
      "Prtates    59\n",
      "GMown E    56\n",
      "           ..\n",
      "Amionce     1\n",
      "JaghtDe     1\n",
      "Jauraht     1\n",
      "Brity U     1\n",
      "RSntsAp     1\n",
      "Name: count, Length: 2688, dtype: int64\n",
      "--------------------------------\n",
      "total_sqft\n",
      "1200    843\n",
      "1100    221\n",
      "1500    205\n",
      "2400    196\n",
      "600     180\n",
      "       ... \n",
      "3580      1\n",
      "2461      1\n",
      "1437      1\n",
      "2155      1\n",
      "4689      1\n",
      "Name: count, Length: 2117, dtype: int64\n",
      "--------------------------------\n",
      "bath\n",
      "2.0     6908\n",
      "3.0     3286\n",
      "4.0     1226\n",
      "1.0      788\n",
      "5.0      524\n",
      "6.0      273\n",
      "7.0      102\n",
      "8.0       64\n",
      "9.0       43\n",
      "10.0      13\n",
      "12.0       7\n",
      "13.0       3\n",
      "11.0       3\n",
      "16.0       2\n",
      "27.0       1\n",
      "40.0       1\n",
      "15.0       1\n",
      "14.0       1\n",
      "18.0       1\n",
      "Name: count, dtype: int64\n",
      "--------------------------------\n",
      "balcony\n",
      "2.0    5113\n",
      "1.0    4897\n",
      "3.0    1672\n",
      "0.0    1029\n",
      "Name: count, dtype: int64\n",
      "--------------------------------\n",
      "price\n",
      "75.00     310\n",
      "65.00     302\n",
      "55.00     275\n",
      "60.00     270\n",
      "45.00     240\n",
      "         ... \n",
      "351.00      1\n",
      "54.10       1\n",
      "80.64       1\n",
      "32.73       1\n",
      "488.00      1\n",
      "Name: count, Length: 1994, dtype: int64\n",
      "--------------------------------\n"
     ]
    }
   ],
   "source": [
    "def value_count(df):\n",
    "  for var in df.columns:\n",
    "    print(df[var].value_counts())\n",
    "    print(\"--------------------------------\")\n",
    "\n",
    "value_count(df)"
   ]
  },
  {
   "cell_type": "markdown",
   "metadata": {
    "id": "k1XmRGm6-06j"
   },
   "source": [
    "4. Xem xét tương quan về giá trị của các cặp trường số"
   ]
  },
  {
   "cell_type": "code",
   "execution_count": 10,
   "metadata": {
    "id": "ZSPkjZdwdsrv"
   },
   "outputs": [
    {
     "name": "stderr",
     "output_type": "stream",
     "text": [
      "C:\\Users\\PC\\anaconda3\\Lib\\site-packages\\seaborn\\_oldcore.py:1119: FutureWarning: use_inf_as_na option is deprecated and will be removed in a future version. Convert inf values to NaN before operating instead.\n",
      "  with pd.option_context('mode.use_inf_as_na', True):\n",
      "C:\\Users\\PC\\anaconda3\\Lib\\site-packages\\seaborn\\_oldcore.py:1119: FutureWarning: use_inf_as_na option is deprecated and will be removed in a future version. Convert inf values to NaN before operating instead.\n",
      "  with pd.option_context('mode.use_inf_as_na', True):\n",
      "C:\\Users\\PC\\anaconda3\\Lib\\site-packages\\seaborn\\_oldcore.py:1119: FutureWarning: use_inf_as_na option is deprecated and will be removed in a future version. Convert inf values to NaN before operating instead.\n",
      "  with pd.option_context('mode.use_inf_as_na', True):\n"
     ]
    },
    {
     "data": {
      "text/plain": [
       "<seaborn.axisgrid.PairGrid at 0x15d1bcd6f50>"
      ]
     },
     "execution_count": 10,
     "metadata": {},
     "output_type": "execute_result"
    },
    {
     "data": {
      "image/png": "[encoded data removed]",
      "text/plain": [
       "<Figure size 750x750 with 12 Axes>"
      ]
     },
     "metadata": {},
     "output_type": "display_data"
    }
   ],
   "source": [
    "sns.pairplot(df)"
   ]
  },
  {
   "cell_type": "code",
   "execution_count": 8,
   "metadata": {
    "id": "hR4eve8ye10G"
   },
   "outputs": [
    {
     "data": {
      "text/plain": [
       "<Axes: >"
      ]
     },
     "execution_count": 8,
     "metadata": {},
     "output_type": "execute_result"
    },
    {
     "data": {
      "image/png": "[encoded data removed]",
      "text/plain": [
       "<Figure size 640x480 with 2 Axes>"
      ]
     },
     "metadata": {},
     "output_type": "display_data"
    }
   ],
   "source": [
    "num_vars = [\"bath\", \"balcony\", \"price\"]\n",
    "sns.heatmap(df[num_vars].corr(),cmap=\"coolwarm\", annot=True)"
   ]
  },
  {
   "cell_type": "code",
   "execution_count": null,
   "metadata": {
    "id": "mEMnvHAz_d4C"
   },
   "outputs": [],
   "source": [
    "sns.heatmap(df.corr(),cmap=\"coolwarm\", annot=False)"
   ]
  },
  {
   "cell_type": "markdown",
   "metadata": {
    "id": "rBJn5yfZfap0"
   },
   "source": [
    "### Chuẩn bị dữ liệu để huấn luyện mô hình"
   ]
  },
  {
   "cell_type": "markdown",
   "metadata": {
    "id": "J_NF04EUfggt"
   },
   "source": [
    "#### Xử lí các giá trị Null/ Nan"
   ]
  },
  {
   "cell_type": "markdown",
   "metadata": {
    "id": "N6cwp4CoeMhQ"
   },
   "source": [
    "1. Thống kê tỉ lệ giá trị null của từng thuộc tính"
   ]
  },
  {
   "cell_type": "code",
   "execution_count": 9,
   "metadata": {
    "id": "wdrarSAEfnNz"
   },
   "outputs": [
    {
     "data": {
      "text/plain": [
       "area_type        0.000000\n",
       "availability     0.000000\n",
       "location         0.007508\n",
       "size             0.120120\n",
       "society         41.306306\n",
       "total_sqft       0.000000\n",
       "bath             0.548048\n",
       "balcony          4.572072\n",
       "price            0.000000\n",
       "dtype: float64"
      ]
     },
     "execution_count": 9,
     "metadata": {},
     "output_type": "execute_result"
    }
   ],
   "source": [
    "df.isnull().mean()*100  # Tỷ lệ giá trị null của từng thuộc tính"
   ]
  },
  {
   "cell_type": "markdown",
   "metadata": {
    "id": "ttrTU8D5eMhT"
   },
   "source": [
    "2. Loại đi trường society vì tỉ lệ null cao (41%)"
   ]
  },
  {
   "cell_type": "code",
   "execution_count": 10,
   "metadata": {
    "id": "Azmc5V29f-w3"
   },
   "outputs": [
    {
     "data": {
      "text/plain": [
       "(13320, 8)"
      ]
     },
     "execution_count": 10,
     "metadata": {},
     "output_type": "execute_result"
    }
   ],
   "source": [
    "df2 = df.drop('society', axis='columns')\n",
    "df2.shape"
   ]
  },
  {
   "cell_type": "markdown",
   "metadata": {
    "id": "0ihcur-ZeMhV"
   },
   "source": [
    "3. Thay thế giá trị null trong trường balcony bằng giá trị trung bình của các giá trị not null"
   ]
  },
  {
   "cell_type": "code",
   "execution_count": 11,
   "metadata": {
    "id": "nn9Sh3VugR9t"
   },
   "outputs": [
    {
     "data": {
      "text/plain": [
       "area_type        0\n",
       "availability     0\n",
       "location         1\n",
       "size            16\n",
       "total_sqft       0\n",
       "bath            73\n",
       "balcony          0\n",
       "price            0\n",
       "dtype: int64"
      ]
     },
     "execution_count": 11,
     "metadata": {},
     "output_type": "execute_result"
    }
   ],
   "source": [
    "df2['balcony'] = df2['balcony'].fillna(df2['balcony'].mean())\n",
    "df2.isnull().sum()"
   ]
  },
  {
   "cell_type": "markdown",
   "metadata": {
    "id": "VBSkeexNeMhV"
   },
   "source": [
    "4. Xóa đi các điểm dữ liệu (hàng) có giá trị nan (không có giá trị)"
   ]
  },
  {
   "cell_type": "code",
   "execution_count": 12,
   "metadata": {
    "id": "Nk-GK233glrd"
   },
   "outputs": [
    {
     "data": {
      "text/plain": [
       "(13246, 8)"
      ]
     },
     "execution_count": 12,
     "metadata": {},
     "output_type": "execute_result"
    }
   ],
   "source": [
    "df3 = df2.dropna()\n",
    "df3.shape"
   ]
  },
  {
   "cell_type": "code",
   "execution_count": 13,
   "metadata": {
    "id": "Lc9HQAZGhZBt"
   },
   "outputs": [
    {
     "data": {
      "text/plain": [
       "area_type       0\n",
       "availability    0\n",
       "location        0\n",
       "size            0\n",
       "total_sqft      0\n",
       "bath            0\n",
       "balcony         0\n",
       "price           0\n",
       "dtype: int64"
      ]
     },
     "execution_count": 13,
     "metadata": {},
     "output_type": "execute_result"
    }
   ],
   "source": [
    "df3.isnull().sum() #Thống kê lại xem đã xử lí hết các dữ liệu null hay chưa?"
   ]
  },
  {
   "cell_type": "markdown",
   "metadata": {
    "id": "WM_tZEv8hn0T"
   },
   "source": [
    "#### Xử lí các trường thuộc tính"
   ]
  },
  {
   "cell_type": "code",
   "execution_count": 16,
   "metadata": {
    "id": "x9pqpwGohjnU"
   },
   "outputs": [],
   "source": [
    "#Cho phép in ra toàn bộ các giá trị output có thể của câu lệnh\n",
    "pd.set_option(\"display.max_columns\", 10)\n",
    "pd.set_option(\"display.max_rows\", 10)"
   ]
  },
  {
   "cell_type": "markdown",
   "metadata": {
    "id": "re24TUzKhziC"
   },
   "source": [
    "1. Converting 'total_sqft' cat feature in numeric (float)"
   ]
  },
  {
   "cell_type": "code",
   "execution_count": 17,
   "metadata": {
    "id": "OEP9sAsMhv7c"
   },
   "outputs": [
    {
     "data": {
      "text/plain": [
       "total_sqft\n",
       "1200    843\n",
       "1100    221\n",
       "1500    204\n",
       "2400    195\n",
       "600     180\n",
       "       ... \n",
       "5985      1\n",
       "3580      1\n",
       "2461      1\n",
       "1437      1\n",
       "4689      1\n",
       "Name: count, Length: 2067, dtype: int64"
      ]
     },
     "execution_count": 17,
     "metadata": {},
     "output_type": "execute_result"
    }
   ],
   "source": [
    "# Xem xét trường total_sqft\n",
    "df3['total_sqft'].value_counts()"
   ]
  },
  {
   "cell_type": "code",
   "execution_count": 18,
   "metadata": {
    "id": "rxMYQnljjFk1"
   },
   "outputs": [],
   "source": [
    "#Xử lí các giá trị của trường total_sqft và lưu vào một biến tạm\n",
    "\n",
    "total_sqft_float = [] #Biến tạm để lưu giá trị được xử lí\n",
    "for str_val in df3['total_sqft']:\n",
    "  try:\n",
    "    total_sqft_float.append(float(str_val))\n",
    "  except:\n",
    "    try:\n",
    "      temp = []\n",
    "      temp = str_val.split('-')\n",
    "      total_sqft_float.append((float(temp[0])+float(temp[-1]))/2)\n",
    "    except:\n",
    "      total_sqft_float.append(np.nan) #Gia tri ngoai le se duoc dat thanh null\n",
    "\n",
    "df4 = df3.reset_index(drop=True)"
   ]
  },
  {
   "cell_type": "code",
   "execution_count": 19,
   "metadata": {
    "id": "lnRJIGOukeet"
   },
   "outputs": [
    {
     "data": {
      "text/html": [
       "<div>\n",
       "<style scoped>\n",
       "    .dataframe tbody tr th:only-of-type {\n",
       "        vertical-align: middle;\n",
       "    }\n",
       "\n",
       "    .dataframe tbody tr th {\n",
       "        vertical-align: top;\n",
       "    }\n",
       "\n",
       "    .dataframe thead th {\n",
       "        text-align: right;\n",
       "    }\n",
       "</style>\n",
       "<table border=\"1\" class=\"dataframe\">\n",
       "  <thead>\n",
       "    <tr style=\"text-align: right;\">\n",
       "      <th></th>\n",
       "      <th>area_type</th>\n",
       "      <th>availability</th>\n",
       "      <th>location</th>\n",
       "      <th>size</th>\n",
       "      <th>total_sqft</th>\n",
       "      <th>bath</th>\n",
       "      <th>balcony</th>\n",
       "      <th>price</th>\n",
       "      <th>total_sqft_float</th>\n",
       "    </tr>\n",
       "  </thead>\n",
       "  <tbody>\n",
       "    <tr>\n",
       "      <th>0</th>\n",
       "      <td>Super built-up  Area</td>\n",
       "      <td>19-Dec</td>\n",
       "      <td>Electronic City Phase II</td>\n",
       "      <td>2 BHK</td>\n",
       "      <td>1056</td>\n",
       "      <td>2.0</td>\n",
       "      <td>1.0</td>\n",
       "      <td>39.07</td>\n",
       "      <td>1056.0</td>\n",
       "    </tr>\n",
       "    <tr>\n",
       "      <th>1</th>\n",
       "      <td>Plot  Area</td>\n",
       "      <td>Ready To Move</td>\n",
       "      <td>Chikka Tirupathi</td>\n",
       "      <td>4 Bedroom</td>\n",
       "      <td>2600</td>\n",
       "      <td>5.0</td>\n",
       "      <td>3.0</td>\n",
       "      <td>120.00</td>\n",
       "      <td>2600.0</td>\n",
       "    </tr>\n",
       "    <tr>\n",
       "      <th>2</th>\n",
       "      <td>Built-up  Area</td>\n",
       "      <td>Ready To Move</td>\n",
       "      <td>Uttarahalli</td>\n",
       "      <td>3 BHK</td>\n",
       "      <td>1440</td>\n",
       "      <td>2.0</td>\n",
       "      <td>3.0</td>\n",
       "      <td>62.00</td>\n",
       "      <td>1440.0</td>\n",
       "    </tr>\n",
       "    <tr>\n",
       "      <th>3</th>\n",
       "      <td>Super built-up  Area</td>\n",
       "      <td>Ready To Move</td>\n",
       "      <td>Lingadheeranahalli</td>\n",
       "      <td>3 BHK</td>\n",
       "      <td>1521</td>\n",
       "      <td>3.0</td>\n",
       "      <td>1.0</td>\n",
       "      <td>95.00</td>\n",
       "      <td>1521.0</td>\n",
       "    </tr>\n",
       "    <tr>\n",
       "      <th>4</th>\n",
       "      <td>Super built-up  Area</td>\n",
       "      <td>Ready To Move</td>\n",
       "      <td>Kothanur</td>\n",
       "      <td>2 BHK</td>\n",
       "      <td>1200</td>\n",
       "      <td>2.0</td>\n",
       "      <td>1.0</td>\n",
       "      <td>51.00</td>\n",
       "      <td>1200.0</td>\n",
       "    </tr>\n",
       "  </tbody>\n",
       "</table>\n",
       "</div>"
      ],
      "text/plain": [
       "              area_type   availability                  location       size  \\\n",
       "0  Super built-up  Area         19-Dec  Electronic City Phase II      2 BHK   \n",
       "1            Plot  Area  Ready To Move          Chikka Tirupathi  4 Bedroom   \n",
       "2        Built-up  Area  Ready To Move               Uttarahalli      3 BHK   \n",
       "3  Super built-up  Area  Ready To Move        Lingadheeranahalli      3 BHK   \n",
       "4  Super built-up  Area  Ready To Move                  Kothanur      2 BHK   \n",
       "\n",
       "  total_sqft  bath  balcony   price  total_sqft_float  \n",
       "0       1056   2.0      1.0   39.07            1056.0  \n",
       "1       2600   5.0      3.0  120.00            2600.0  \n",
       "2       1440   2.0      3.0   62.00            1440.0  \n",
       "3       1521   3.0      1.0   95.00            1521.0  \n",
       "4       1200   2.0      1.0   51.00            1200.0  "
      ]
     },
     "execution_count": 19,
     "metadata": {},
     "output_type": "execute_result"
    }
   ],
   "source": [
    "# Thêm trường total_sqft_float:\n",
    "\n",
    "df5 = df4.join(pd.DataFrame({'total_sqft_float':total_sqft_float}))\n",
    "df5.head() #Quan sát kết quả sau khi xử lí"
   ]
  },
  {
   "cell_type": "code",
   "execution_count": 20,
   "metadata": {
    "id": "YiS81zx5k--n"
   },
   "outputs": [
    {
     "data": {
      "text/plain": [
       "area_type            0\n",
       "availability         0\n",
       "location             0\n",
       "size                 0\n",
       "total_sqft           0\n",
       "bath                 0\n",
       "balcony              0\n",
       "price                0\n",
       "total_sqft_float    46\n",
       "dtype: int64"
      ]
     },
     "execution_count": 20,
     "metadata": {},
     "output_type": "execute_result"
    }
   ],
   "source": [
    "# Xem xét lại thông tin về các giá trị null\n",
    "df5.isnull().sum()"
   ]
  },
  {
   "cell_type": "code",
   "execution_count": 21,
   "metadata": {
    "id": "Xregleu_lGoj"
   },
   "outputs": [
    {
     "data": {
      "text/plain": [
       "(13200, 9)"
      ]
     },
     "execution_count": 21,
     "metadata": {},
     "output_type": "execute_result"
    }
   ],
   "source": [
    "# Loại bỏ các hàng có giá trị null\n",
    "df6 = df5.dropna()\n",
    "df6.shape"
   ]
  },
  {
   "cell_type": "code",
   "execution_count": 22,
   "metadata": {
    "id": "tchjeGPmlPiS"
   },
   "outputs": [
    {
     "name": "stdout",
     "output_type": "stream",
     "text": [
      "<class 'pandas.core.frame.DataFrame'>\n",
      "Index: 13200 entries, 0 to 13245\n",
      "Data columns (total 9 columns):\n",
      " #   Column            Non-Null Count  Dtype  \n",
      "---  ------            --------------  -----  \n",
      " 0   area_type         13200 non-null  object \n",
      " 1   availability      13200 non-null  object \n",
      " 2   location          13200 non-null  object \n",
      " 3   size              13200 non-null  object \n",
      " 4   total_sqft        13200 non-null  object \n",
      " 5   bath              13200 non-null  float64\n",
      " 6   balcony           13200 non-null  float64\n",
      " 7   price             13200 non-null  float64\n",
      " 8   total_sqft_float  13200 non-null  float64\n",
      "dtypes: float64(4), object(5)\n",
      "memory usage: 1.0+ MB\n"
     ]
    }
   ],
   "source": [
    "# Xem lại thông tin của dataframe\n",
    "df6.info()"
   ]
  },
  {
   "cell_type": "markdown",
   "metadata": {
    "id": "0mX13Sa0lpdG"
   },
   "source": [
    "2. Làm việc với feature: *size*"
   ]
  },
  {
   "cell_type": "code",
   "execution_count": 23,
   "metadata": {
    "id": "U5xvFlo_ld8s"
   },
   "outputs": [
    {
     "data": {
      "text/plain": [
       "size\n",
       "2 BHK         5192\n",
       "3 BHK         4277\n",
       "4 Bedroom      816\n",
       "4 BHK          574\n",
       "3 Bedroom      541\n",
       "              ... \n",
       "27 BHK           1\n",
       "43 Bedroom       1\n",
       "16 BHK           1\n",
       "19 BHK           1\n",
       "18 Bedroom       1\n",
       "Name: count, Length: 31, dtype: int64"
      ]
     },
     "execution_count": 23,
     "metadata": {},
     "output_type": "execute_result"
    }
   ],
   "source": [
    "# Quan sát sự phân bố giá trị của trường 'size' với value_counts\n",
    "df6['size'].value_counts()"
   ]
  },
  {
   "cell_type": "code",
   "execution_count": 24,
   "metadata": {
    "id": "KkTvN3jVlv7p"
   },
   "outputs": [],
   "source": [
    "#Chuyển thuộc tính số phòng từ dạng category về dạng numeric\n",
    "size_int = []\n",
    "for str_val in df6['size']:\n",
    "  temp=[]\n",
    "  temp = str_val.split(\" \")\n",
    "  try:\n",
    "    size_int.append(int(temp[0]))\n",
    "  except:\n",
    "    size_int.append(np.nan)\n",
    "    print(\"Noise = \",str_val)"
   ]
  },
  {
   "cell_type": "code",
   "execution_count": 25,
   "metadata": {
    "id": "AsPiyp8HmUhA"
   },
   "outputs": [],
   "source": [
    "#Đánh lại index cho các hàng theo dãy số tự nhiên liên tiếp\n",
    "df6 = df6.reset_index(drop=True)"
   ]
  },
  {
   "cell_type": "code",
   "execution_count": 26,
   "metadata": {
    "id": "-ig3eCT8myqg"
   },
   "outputs": [
    {
     "data": {
      "text/plain": [
       "(13200, 10)"
      ]
     },
     "execution_count": 26,
     "metadata": {},
     "output_type": "execute_result"
    }
   ],
   "source": [
    "# Thêm trường dữ liệu số phòng (bhk)\n",
    "df7 = df6.join(pd.DataFrame({'bhk':size_int}))\n",
    "df7.shape"
   ]
  },
  {
   "cell_type": "code",
   "execution_count": 27,
   "metadata": {
    "id": "91metB4mm0tJ"
   },
   "outputs": [
    {
     "data": {
      "text/html": [
       "<div>\n",
       "<style scoped>\n",
       "    .dataframe tbody tr th:only-of-type {\n",
       "        vertical-align: middle;\n",
       "    }\n",
       "\n",
       "    .dataframe tbody tr th {\n",
       "        vertical-align: top;\n",
       "    }\n",
       "\n",
       "    .dataframe thead th {\n",
       "        text-align: right;\n",
       "    }\n",
       "</style>\n",
       "<table border=\"1\" class=\"dataframe\">\n",
       "  <thead>\n",
       "    <tr style=\"text-align: right;\">\n",
       "      <th></th>\n",
       "      <th>area_type</th>\n",
       "      <th>availability</th>\n",
       "      <th>location</th>\n",
       "      <th>size</th>\n",
       "      <th>total_sqft</th>\n",
       "      <th>bath</th>\n",
       "      <th>balcony</th>\n",
       "      <th>price</th>\n",
       "      <th>total_sqft_float</th>\n",
       "      <th>bhk</th>\n",
       "    </tr>\n",
       "  </thead>\n",
       "  <tbody>\n",
       "    <tr>\n",
       "      <th>13195</th>\n",
       "      <td>Built-up  Area</td>\n",
       "      <td>Ready To Move</td>\n",
       "      <td>Whitefield</td>\n",
       "      <td>5 Bedroom</td>\n",
       "      <td>3453</td>\n",
       "      <td>4.0</td>\n",
       "      <td>0.000000</td>\n",
       "      <td>231.0</td>\n",
       "      <td>3453.0</td>\n",
       "      <td>5</td>\n",
       "    </tr>\n",
       "    <tr>\n",
       "      <th>13196</th>\n",
       "      <td>Super built-up  Area</td>\n",
       "      <td>Ready To Move</td>\n",
       "      <td>Richards Town</td>\n",
       "      <td>4 BHK</td>\n",
       "      <td>3600</td>\n",
       "      <td>5.0</td>\n",
       "      <td>1.584376</td>\n",
       "      <td>400.0</td>\n",
       "      <td>3600.0</td>\n",
       "      <td>4</td>\n",
       "    </tr>\n",
       "    <tr>\n",
       "      <th>13197</th>\n",
       "      <td>Built-up  Area</td>\n",
       "      <td>Ready To Move</td>\n",
       "      <td>Raja Rajeshwari Nagar</td>\n",
       "      <td>2 BHK</td>\n",
       "      <td>1141</td>\n",
       "      <td>2.0</td>\n",
       "      <td>1.000000</td>\n",
       "      <td>60.0</td>\n",
       "      <td>1141.0</td>\n",
       "      <td>2</td>\n",
       "    </tr>\n",
       "    <tr>\n",
       "      <th>13198</th>\n",
       "      <td>Super built-up  Area</td>\n",
       "      <td>18-Jun</td>\n",
       "      <td>Padmanabhanagar</td>\n",
       "      <td>4 BHK</td>\n",
       "      <td>4689</td>\n",
       "      <td>4.0</td>\n",
       "      <td>1.000000</td>\n",
       "      <td>488.0</td>\n",
       "      <td>4689.0</td>\n",
       "      <td>4</td>\n",
       "    </tr>\n",
       "    <tr>\n",
       "      <th>13199</th>\n",
       "      <td>Super built-up  Area</td>\n",
       "      <td>Ready To Move</td>\n",
       "      <td>Doddathoguru</td>\n",
       "      <td>1 BHK</td>\n",
       "      <td>550</td>\n",
       "      <td>1.0</td>\n",
       "      <td>1.000000</td>\n",
       "      <td>17.0</td>\n",
       "      <td>550.0</td>\n",
       "      <td>1</td>\n",
       "    </tr>\n",
       "  </tbody>\n",
       "</table>\n",
       "</div>"
      ],
      "text/plain": [
       "                  area_type   availability               location       size  \\\n",
       "13195        Built-up  Area  Ready To Move             Whitefield  5 Bedroom   \n",
       "13196  Super built-up  Area  Ready To Move          Richards Town      4 BHK   \n",
       "13197        Built-up  Area  Ready To Move  Raja Rajeshwari Nagar      2 BHK   \n",
       "13198  Super built-up  Area         18-Jun        Padmanabhanagar      4 BHK   \n",
       "13199  Super built-up  Area  Ready To Move           Doddathoguru      1 BHK   \n",
       "\n",
       "      total_sqft  bath   balcony  price  total_sqft_float  bhk  \n",
       "13195       3453   4.0  0.000000  231.0            3453.0    5  \n",
       "13196       3600   5.0  1.584376  400.0            3600.0    4  \n",
       "13197       1141   2.0  1.000000   60.0            1141.0    2  \n",
       "13198       4689   4.0  1.000000  488.0            4689.0    4  \n",
       "13199        550   1.0  1.000000   17.0             550.0    1  "
      ]
     },
     "execution_count": 27,
     "metadata": {},
     "output_type": "execute_result"
    }
   ],
   "source": [
    "#In ra kết quả thực hiện các thao tác kể trên?\n",
    "df7.tail()"
   ]
  },
  {
   "cell_type": "markdown",
   "metadata": {
    "id": "k4aiX9WlqQ8W"
   },
   "source": [
    "3. Phát hiện ngoại lệ (outlier) và loại bỏ\n",
    "* Dựa trên biểu đồ boxplot/ hoặc công cụ khác để phát hiện và loại bỏ các điểm ngoại lai:"
   ]
  },
  {
   "cell_type": "code",
   "execution_count": 28,
   "metadata": {
    "id": "PgKW3Hq1He5-"
   },
   "outputs": [
    {
     "data": {
      "text/plain": [
       "<Axes: xlabel='total_sqft_float'>"
      ]
     },
     "execution_count": 28,
     "metadata": {},
     "output_type": "execute_result"
    },
    {
     "data": {
      "image/png": "[encoded data removed]",
      "text/plain": [
       "<Figure size 640x480 with 1 Axes>"
      ]
     },
     "metadata": {},
     "output_type": "display_data"
    }
   ],
   "source": [
    "# Xem xét trường diện tích:\n",
    "sns.boxplot(x = df7['total_sqft_float'])"
   ]
  },
  {
   "cell_type": "code",
   "execution_count": 29,
   "metadata": {
    "id": "EpcfW0zGsFDr"
   },
   "outputs": [
    {
     "data": {
      "text/plain": [
       "<Axes: xlabel='total_sqft_float'>"
      ]
     },
     "execution_count": 29,
     "metadata": {},
     "output_type": "execute_result"
    },
    {
     "data": {
      "image/png": "[encoded data removed]",
      "text/plain": [
       "<Figure size 640x480 with 1 Axes>"
      ]
     },
     "metadata": {},
     "output_type": "display_data"
    }
   ],
   "source": [
    "# Chọn ngưỡng diện tích là 3500 để xem xét\n",
    "df_temp7 = df7[df7['total_sqft_float'] < 3500]\n",
    "sns.boxplot(x = df_temp7['total_sqft_float'])"
   ]
  },
  {
   "cell_type": "code",
   "execution_count": 30,
   "metadata": {
    "id": "_KML6BbAuBhy"
   },
   "outputs": [
    {
     "data": {
      "text/plain": [
       "(10977, 10)"
      ]
     },
     "execution_count": 30,
     "metadata": {},
     "output_type": "execute_result"
    },
    {
     "data": {
      "image/png": "[encoded data removed]",
      "text/plain": [
       "<Figure size 640x480 with 1 Axes>"
      ]
     },
     "metadata": {},
     "output_type": "display_data"
    }
   ],
   "source": [
    "# Loại bỏ đi các điểm dữ liệu có diện tích >= 2200 hoặc <= 300\n",
    "# (Q1 - 1.5 * IQR or Q3 + 1.5 * IQR)\n",
    "df8 = df7[(df7['total_sqft_float'] > 500) & (df7['total_sqft_float'] <2000)]\n",
    "sns.boxplot(x = df8['total_sqft_float'])\n",
    "df8.shape"
   ]
  },
  {
   "cell_type": "code",
   "execution_count": 31,
   "metadata": {
    "id": "Ub6uPFN4ux_2"
   },
   "outputs": [
    {
     "data": {
      "text/html": [
       "<div>\n",
       "<style scoped>\n",
       "    .dataframe tbody tr th:only-of-type {\n",
       "        vertical-align: middle;\n",
       "    }\n",
       "\n",
       "    .dataframe tbody tr th {\n",
       "        vertical-align: top;\n",
       "    }\n",
       "\n",
       "    .dataframe thead th {\n",
       "        text-align: right;\n",
       "    }\n",
       "</style>\n",
       "<table border=\"1\" class=\"dataframe\">\n",
       "  <thead>\n",
       "    <tr style=\"text-align: right;\">\n",
       "      <th></th>\n",
       "      <th>area_type</th>\n",
       "      <th>availability</th>\n",
       "      <th>location</th>\n",
       "      <th>size</th>\n",
       "      <th>total_sqft</th>\n",
       "      <th>...</th>\n",
       "      <th>balcony</th>\n",
       "      <th>price</th>\n",
       "      <th>total_sqft_float</th>\n",
       "      <th>bhk</th>\n",
       "      <th>price_per_sqft</th>\n",
       "    </tr>\n",
       "  </thead>\n",
       "  <tbody>\n",
       "    <tr>\n",
       "      <th>0</th>\n",
       "      <td>Super built-up  Area</td>\n",
       "      <td>19-Dec</td>\n",
       "      <td>Electronic City Phase II</td>\n",
       "      <td>2 BHK</td>\n",
       "      <td>1056</td>\n",
       "      <td>...</td>\n",
       "      <td>1.0</td>\n",
       "      <td>39.07</td>\n",
       "      <td>1056.0</td>\n",
       "      <td>2</td>\n",
       "      <td>3699.810606</td>\n",
       "    </tr>\n",
       "    <tr>\n",
       "      <th>1</th>\n",
       "      <td>Built-up  Area</td>\n",
       "      <td>Ready To Move</td>\n",
       "      <td>Uttarahalli</td>\n",
       "      <td>3 BHK</td>\n",
       "      <td>1440</td>\n",
       "      <td>...</td>\n",
       "      <td>3.0</td>\n",
       "      <td>62.00</td>\n",
       "      <td>1440.0</td>\n",
       "      <td>3</td>\n",
       "      <td>4305.555556</td>\n",
       "    </tr>\n",
       "    <tr>\n",
       "      <th>2</th>\n",
       "      <td>Super built-up  Area</td>\n",
       "      <td>Ready To Move</td>\n",
       "      <td>Lingadheeranahalli</td>\n",
       "      <td>3 BHK</td>\n",
       "      <td>1521</td>\n",
       "      <td>...</td>\n",
       "      <td>1.0</td>\n",
       "      <td>95.00</td>\n",
       "      <td>1521.0</td>\n",
       "      <td>3</td>\n",
       "      <td>6245.890861</td>\n",
       "    </tr>\n",
       "    <tr>\n",
       "      <th>3</th>\n",
       "      <td>Super built-up  Area</td>\n",
       "      <td>Ready To Move</td>\n",
       "      <td>Kothanur</td>\n",
       "      <td>2 BHK</td>\n",
       "      <td>1200</td>\n",
       "      <td>...</td>\n",
       "      <td>1.0</td>\n",
       "      <td>51.00</td>\n",
       "      <td>1200.0</td>\n",
       "      <td>2</td>\n",
       "      <td>4250.000000</td>\n",
       "    </tr>\n",
       "    <tr>\n",
       "      <th>4</th>\n",
       "      <td>Super built-up  Area</td>\n",
       "      <td>Ready To Move</td>\n",
       "      <td>Whitefield</td>\n",
       "      <td>2 BHK</td>\n",
       "      <td>1170</td>\n",
       "      <td>...</td>\n",
       "      <td>1.0</td>\n",
       "      <td>38.00</td>\n",
       "      <td>1170.0</td>\n",
       "      <td>2</td>\n",
       "      <td>3247.863248</td>\n",
       "    </tr>\n",
       "  </tbody>\n",
       "</table>\n",
       "<p>5 rows × 11 columns</p>\n",
       "</div>"
      ],
      "text/plain": [
       "              area_type   availability                  location   size  \\\n",
       "0  Super built-up  Area         19-Dec  Electronic City Phase II  2 BHK   \n",
       "1        Built-up  Area  Ready To Move               Uttarahalli  3 BHK   \n",
       "2  Super built-up  Area  Ready To Move        Lingadheeranahalli  3 BHK   \n",
       "3  Super built-up  Area  Ready To Move                  Kothanur  2 BHK   \n",
       "4  Super built-up  Area  Ready To Move                Whitefield  2 BHK   \n",
       "\n",
       "  total_sqft  ...  balcony  price  total_sqft_float  bhk  price_per_sqft  \n",
       "0       1056  ...      1.0  39.07            1056.0    2     3699.810606  \n",
       "1       1440  ...      3.0  62.00            1440.0    3     4305.555556  \n",
       "2       1521  ...      1.0  95.00            1521.0    3     6245.890861  \n",
       "3       1200  ...      1.0  51.00            1200.0    2     4250.000000  \n",
       "4       1170  ...      1.0  38.00            1170.0    2     3247.863248  \n",
       "\n",
       "[5 rows x 11 columns]"
      ]
     },
     "execution_count": 31,
     "metadata": {},
     "output_type": "execute_result"
    }
   ],
   "source": [
    "# Tạo thêm trường dữ liệu price_per_sqft (giá/ diện tích feet vuông)\n",
    "df8 = df8.reset_index(drop=True)\n",
    "df8['price_per_sqft'] = df8['price']*100000 / df8['total_sqft_float']\n",
    "df8.head()"
   ]
  },
  {
   "cell_type": "code",
   "execution_count": 32,
   "metadata": {
    "id": "sGJwRpkNvFB7"
   },
   "outputs": [
    {
     "data": {
      "text/plain": [
       "count    10977.000000\n",
       "mean      6168.807617\n",
       "std       3646.940348\n",
       "min       1166.666667\n",
       "25%       4166.666667\n",
       "50%       5179.856115\n",
       "75%       6666.666667\n",
       "max      76923.076923\n",
       "Name: price_per_sqft, dtype: float64"
      ]
     },
     "execution_count": 32,
     "metadata": {},
     "output_type": "execute_result"
    }
   ],
   "source": [
    "df8.price_per_sqft.describe()"
   ]
  },
  {
   "cell_type": "markdown",
   "metadata": {
    "id": "xDFbPx1sJG4K"
   },
   "source": [
    "\n",
    "## Bài tập bổ sung (tự làm)\n",
    "\n",
    "> Phần bài tập này là các câu hỏi  mở rộng, làm tiếp theo bài toán ở trên. Học viên cần viết mã để thực hiện các yêu cầu dưới đây:"
   ]
  },
  {
   "cell_type": "markdown",
   "metadata": {
    "id": "w966RKXmnaiy"
   },
   "source": [
    "Bài tập 0: Sử dụng sns.boxplot() để quan sát đặc điểm phân bố dữ liệu của các trường số, mỗi trường này có outlier ko?"
   ]
  },
  {
   "cell_type": "code",
   "execution_count": null,
   "metadata": {
    "id": "uKRSBk_TnZZh"
   },
   "outputs": [],
   "source": [
    "# Sử dụng boxplot để quan sát phân bố của dữ liệu, phát hiện ngoại lai (xử lí nếu cần) của từng trường dữ liệu trong vars\n",
    "# Gợi ý: sns.boxplot(data_field)\n",
    "\n",
    "vars = ['price', 'total_sqft_float', 'price_per_sqft', 'balcony', 'bath', 'bhk']\n",
    "plt.figure(figsize=(16,12))\n",
    "\n",
    "#Code ở đây"
   ]
  },
  {
   "cell_type": "markdown",
   "metadata": {
    "id": "eLhjgWGveMhf"
   },
   "source": [
    "Bài tập 1: Viết hàm bỏ đi các điểm dữ liệu có price per sqft dựa trên mean, std của các ngôi nhà dựa trên từng vị trí\n",
    "\n",
    "> Gợi ý: Xét trên từng vị trí (location), ngôi nhà thỏa mãn phải có $price\\_per\\_sqft \\in [mean - std, mean + std]$"
   ]
  },
  {
   "cell_type": "code",
   "execution_count": null,
   "metadata": {
    "id": "qpAdC6wJwJ5E"
   },
   "outputs": [],
   "source": [
    "def remove_pps_outliers(df):\n",
    "  #Code ở đây\n",
    "#--------\n",
    "df9 = remove_pps_outliers(df8)\n",
    "df9.shape"
   ]
  },
  {
   "cell_type": "markdown",
   "metadata": {
    "id": "WR0jq1aheMhh"
   },
   "source": [
    "Bài tập 2: Loại bỏ outlier xét theo trường bkh (số phòng)\n",
    "\n",
    "Xét theo từng khu vực địa lí và theo từng loại nhà với số lượng phòng khác nhau, có một số ngôi nhà có giá không hợp lí (outliers), hãy tìm cách loại bỏ các outlier này. Cần ghi rõ quy tắc ghi nhận outlier"
   ]
  },
  {
   "cell_type": "code",
   "execution_count": null,
   "metadata": {
    "id": "oG0w0t6_9Fgb"
   },
   "outputs": [],
   "source": [
    "#location_df.groupby('bhk')"
   ]
  },
  {
   "cell_type": "code",
   "execution_count": null,
   "metadata": {
    "id": "6RtsF0zbyqY7"
   },
   "outputs": [],
   "source": [
    "def remove_bhk_outliers(df):\n",
    "  # Code ở đây\n",
    "\n",
    "df10 = remove_bhk_outliers(df9)\n",
    "df10.shape"
   ]
  },
  {
   "cell_type": "markdown",
   "metadata": {
    "id": "QQ7lWGTG0f7_"
   },
   "source": [
    "Bài tập 3: Loại bỏ outlier khi xét trường 'bathroom'"
   ]
  },
  {
   "cell_type": "code",
   "execution_count": null,
   "metadata": {
    "id": "8sdFD1NZ0H4t"
   },
   "outputs": [],
   "source": [
    "df10.bath.unique() #Có thể quan sát thấý một số căn nhà có số phòng tắm quá lớn (VD: 10!!!)"
   ]
  },
  {
   "cell_type": "code",
   "execution_count": null,
   "metadata": {
    "id": "2eUHdFGs0p_Q"
   },
   "outputs": [],
   "source": [
    "df10[df10.bath > df10.bhk+2]"
   ]
  },
  {
   "cell_type": "code",
   "execution_count": null,
   "metadata": {
    "id": "nrpCKw3Q03fG"
   },
   "outputs": [],
   "source": [
    "df11 = #Code ở đây, sao cho: df10[df10.bath < df10.bhk+2]\n",
    "df11.shape"
   ]
  },
  {
   "cell_type": "code",
   "execution_count": null,
   "metadata": {
    "id": "JMVuL-QJ2cxm"
   },
   "outputs": [],
   "source": [
    "df11.head()"
   ]
  },
  {
   "cell_type": "code",
   "execution_count": null,
   "metadata": {
    "id": "pNXZiHv9138i"
   },
   "outputs": [],
   "source": [
    "# Quan sát lại kết quả sau khi xử lí với boxplot\n",
    "\n",
    "# (Dùng lại hàm đã code bên trên)"
   ]
  },
  {
   "cell_type": "markdown",
   "metadata": {
    "id": "EgDGb6a6pXUe"
   },
   "source": [
    "Bài tập 4: Xem xét bỏ đi các trường không cần thiết\n",
    "\n",
    "Gợi ý: bỏ đi ['area_type', 'availability',\"location\",\"size\",\"total_sqft\"]"
   ]
  },
  {
   "cell_type": "code",
   "execution_count": 49,
   "metadata": {
    "colab": {
     "base_uri": "https://localhost:8080/",
     "height": 206
    },
    "id": "d2uIPGKJ3ZKD",
    "outputId": "3a99c083-5573-4575-948a-97f2f7c675d3"
   },
   "outputs": [
    {
     "data": {
      "text/html": [
       "\n",
       "\n",
       "  <div id=\"df-43c06817-1829-44d0-bb14-7738e4358787\">\n",
       "    <div class=\"colab-df-container\">\n",
       "      <div>\n",
       "<style scoped>\n",
       "    .dataframe tbody tr th:only-of-type {\n",
       "        vertical-align: middle;\n",
       "    }\n",
       "\n",
       "    .dataframe tbody tr th {\n",
       "        vertical-align: top;\n",
       "    }\n",
       "\n",
       "    .dataframe thead th {\n",
       "        text-align: right;\n",
       "    }\n",
       "</style>\n",
       "<table border=\"1\" class=\"dataframe\">\n",
       "  <thead>\n",
       "    <tr style=\"text-align: right;\">\n",
       "      <th></th>\n",
       "      <th>bath</th>\n",
       "      <th>balcony</th>\n",
       "      <th>price</th>\n",
       "      <th>total_sqft_float</th>\n",
       "      <th>bhk</th>\n",
       "      <th>price_per_sqft</th>\n",
       "    </tr>\n",
       "  </thead>\n",
       "  <tbody>\n",
       "    <tr>\n",
       "      <th>0</th>\n",
       "      <td>3.0</td>\n",
       "      <td>2.0</td>\n",
       "      <td>150.0</td>\n",
       "      <td>1672.0</td>\n",
       "      <td>3</td>\n",
       "      <td>8971.291866</td>\n",
       "    </tr>\n",
       "    <tr>\n",
       "      <th>1</th>\n",
       "      <td>3.0</td>\n",
       "      <td>3.0</td>\n",
       "      <td>149.0</td>\n",
       "      <td>1750.0</td>\n",
       "      <td>3</td>\n",
       "      <td>8514.285714</td>\n",
       "    </tr>\n",
       "    <tr>\n",
       "      <th>2</th>\n",
       "      <td>3.0</td>\n",
       "      <td>2.0</td>\n",
       "      <td>150.0</td>\n",
       "      <td>1750.0</td>\n",
       "      <td>3</td>\n",
       "      <td>8571.428571</td>\n",
       "    </tr>\n",
       "    <tr>\n",
       "      <th>3</th>\n",
       "      <td>2.0</td>\n",
       "      <td>3.0</td>\n",
       "      <td>44.0</td>\n",
       "      <td>1250.0</td>\n",
       "      <td>3</td>\n",
       "      <td>3520.000000</td>\n",
       "    </tr>\n",
       "    <tr>\n",
       "      <th>5</th>\n",
       "      <td>2.0</td>\n",
       "      <td>2.0</td>\n",
       "      <td>83.0</td>\n",
       "      <td>1200.0</td>\n",
       "      <td>2</td>\n",
       "      <td>6916.666667</td>\n",
       "    </tr>\n",
       "  </tbody>\n",
       "</table>\n",
       "</div>\n",
       "      <button class=\"colab-df-convert\" onclick=\"convertToInteractive('df-43c06817-1829-44d0-bb14-7738e4358787')\"\n",
       "              title=\"Convert this dataframe to an interactive table.\"\n",
       "              style=\"display:none;\">\n",
       "\n",
       "  <svg xmlns=\"http://www.w3.org/2000/svg\" height=\"24px\"viewBox=\"0 0 24 24\"\n",
       "       width=\"24px\">\n",
       "    <path d=\"M0 0h24v24H0V0z\" fill=\"none\"/>\n",
       "    <path d=\"M18.56 5.44l.94 2.06.94-2.06 2.06-.94-2.06-.94-.94-2.06-.94 2.06-2.06.94zm-11 1L8.5 8.5l.94-2.06 2.06-.94-2.06-.94L8.5 2.5l-.94 2.06-2.06.94zm10 10l.94 2.06.94-2.06 2.06-.94-2.06-.94-.94-2.06-.94 2.06-2.06.94z\"/><path d=\"M17.41 7.96l-1.37-1.37c-.4-.4-.92-.59-1.43-.59-.52 0-1.04.2-1.43.59L10.3 9.45l-7.72 7.72c-.78.78-.78 2.05 0 2.83L4 21.41c.39.39.9.59 1.41.59.51 0 1.02-.2 1.41-.59l7.78-7.78 2.81-2.81c.8-.78.8-2.07 0-2.86zM5.41 20L4 18.59l7.72-7.72 1.47 1.35L5.41 20z\"/>\n",
       "  </svg>\n",
       "      </button>\n",
       "\n",
       "\n",
       "\n",
       "    <div id=\"df-0893e146-e169-4f54-b442-55d697f18f67\">\n",
       "      <button class=\"colab-df-quickchart\" onclick=\"quickchart('df-0893e146-e169-4f54-b442-55d697f18f67')\"\n",
       "              title=\"Suggest charts.\"\n",
       "              style=\"display:none;\">\n",
       "\n",
       "<svg xmlns=\"http://www.w3.org/2000/svg\" height=\"24px\"viewBox=\"0 0 24 24\"\n",
       "     width=\"24px\">\n",
       "    <g>\n",
       "        <path d=\"M19 3H5c-1.1 0-2 .9-2 2v14c0 1.1.9 2 2 2h14c1.1 0 2-.9 2-2V5c0-1.1-.9-2-2-2zM9 17H7v-7h2v7zm4 0h-2V7h2v10zm4 0h-2v-4h2v4z\"/>\n",
       "    </g>\n",
       "</svg>\n",
       "      </button>\n",
       "    </div>\n",
       "\n",
       "<style>\n",
       "  .colab-df-quickchart {\n",
       "    background-color: #E8F0FE;\n",
       "    border: none;\n",
       "    border-radius: 50%;\n",
       "    cursor: pointer;\n",
       "    display: none;\n",
       "    fill: #1967D2;\n",
       "    height: 32px;\n",
       "    padding: 0 0 0 0;\n",
       "    width: 32px;\n",
       "  }\n",
       "\n",
       "  .colab-df-quickchart:hover {\n",
       "    background-color: #E2EBFA;\n",
       "    box-shadow: 0px 1px 2px rgba(60, 64, 67, 0.3), 0px 1px 3px 1px rgba(60, 64, 67, 0.15);\n",
       "    fill: #174EA6;\n",
       "  }\n",
       "\n",
       "  [theme=dark] .colab-df-quickchart {\n",
       "    background-color: #3B4455;\n",
       "    fill: #D2E3FC;\n",
       "  }\n",
       "\n",
       "  [theme=dark] .colab-df-quickchart:hover {\n",
       "    background-color: #434B5C;\n",
       "    box-shadow: 0px 1px 3px 1px rgba(0, 0, 0, 0.15);\n",
       "    filter: drop-shadow(0px 1px 2px rgba(0, 0, 0, 0.3));\n",
       "    fill: #FFFFFF;\n",
       "  }\n",
       "</style>\n",
       "\n",
       "    <script>\n",
       "      async function quickchart(key) {\n",
       "        const containerElement = document.querySelector('#' + key);\n",
       "        const charts = await google.colab.kernel.invokeFunction(\n",
       "            'suggestCharts', [key], {});\n",
       "      }\n",
       "    </script>\n",
       "\n",
       "      <script>\n",
       "\n",
       "function displayQuickchartButton(domScope) {\n",
       "  let quickchartButtonEl =\n",
       "    domScope.querySelector('#df-0893e146-e169-4f54-b442-55d697f18f67 button.colab-df-quickchart');\n",
       "  quickchartButtonEl.style.display =\n",
       "    google.colab.kernel.accessAllowed ? 'block' : 'none';\n",
       "}\n",
       "\n",
       "        displayQuickchartButton(document);\n",
       "      </script>\n",
       "      <style>\n",
       "    .colab-df-container {\n",
       "      display:flex;\n",
       "      flex-wrap:wrap;\n",
       "      gap: 12px;\n",
       "    }\n",
       "\n",
       "    .colab-df-convert {\n",
       "      background-color: #E8F0FE;\n",
       "      border: none;\n",
       "      border-radius: 50%;\n",
       "      cursor: pointer;\n",
       "      display: none;\n",
       "      fill: #1967D2;\n",
       "      height: 32px;\n",
       "      padding: 0 0 0 0;\n",
       "      width: 32px;\n",
       "    }\n",
       "\n",
       "    .colab-df-convert:hover {\n",
       "      background-color: #E2EBFA;\n",
       "      box-shadow: 0px 1px 2px rgba(60, 64, 67, 0.3), 0px 1px 3px 1px rgba(60, 64, 67, 0.15);\n",
       "      fill: #174EA6;\n",
       "    }\n",
       "\n",
       "    [theme=dark] .colab-df-convert {\n",
       "      background-color: #3B4455;\n",
       "      fill: #D2E3FC;\n",
       "    }\n",
       "\n",
       "    [theme=dark] .colab-df-convert:hover {\n",
       "      background-color: #434B5C;\n",
       "      box-shadow: 0px 1px 3px 1px rgba(0, 0, 0, 0.15);\n",
       "      filter: drop-shadow(0px 1px 2px rgba(0, 0, 0, 0.3));\n",
       "      fill: #FFFFFF;\n",
       "    }\n",
       "  </style>\n",
       "\n",
       "      <script>\n",
       "        const buttonEl =\n",
       "          document.querySelector('#df-43c06817-1829-44d0-bb14-7738e4358787 button.colab-df-convert');\n",
       "        buttonEl.style.display =\n",
       "          google.colab.kernel.accessAllowed ? 'block' : 'none';\n",
       "\n",
       "        async function convertToInteractive(key) {\n",
       "          const element = document.querySelector('#df-43c06817-1829-44d0-bb14-7738e4358787');\n",
       "          const dataTable =\n",
       "            await google.colab.kernel.invokeFunction('convertToInteractive',\n",
       "                                                     [key], {});\n",
       "          if (!dataTable) return;\n",
       "\n",
       "          const docLinkHtml = 'Like what you see? Visit the ' +\n",
       "            '<a target=\"_blank\" href=https://colab.research.google.com/notebooks/data_table.ipynb>data table notebook</a>'\n",
       "            + ' to learn more about interactive tables.';\n",
       "          element.innerHTML = '';\n",
       "          dataTable['output_type'] = 'display_data';\n",
       "          await google.colab.output.renderOutput(dataTable, element);\n",
       "          const docLink = document.createElement('div');\n",
       "          docLink.innerHTML = docLinkHtml;\n",
       "          element.appendChild(docLink);\n",
       "        }\n",
       "      </script>\n",
       "    </div>\n",
       "  </div>\n"
      ],
      "text/plain": [
       "   bath  balcony  price  total_sqft_float  bhk  price_per_sqft\n",
       "0   3.0      2.0  150.0            1672.0    3     8971.291866\n",
       "1   3.0      3.0  149.0            1750.0    3     8514.285714\n",
       "2   3.0      2.0  150.0            1750.0    3     8571.428571\n",
       "3   2.0      3.0   44.0            1250.0    3     3520.000000\n",
       "5   2.0      2.0   83.0            1200.0    2     6916.666667"
      ]
     },
     "execution_count": 49,
     "metadata": {},
     "output_type": "execute_result"
    }
   ],
   "source": [
    "df12 = #Code ở đây\n",
    "df12.head()"
   ]
  },
  {
   "cell_type": "code",
   "execution_count": null,
   "metadata": {
    "id": "q13U9W1U30gR"
   },
   "outputs": [],
   "source": [
    "#Lưu kết quả xử lí cuối cùng:\n",
    "\n",
    "df12.to_csv(\"clean_data.csv\", index=False)"
   ]
  },
  {
   "cell_type": "markdown",
   "metadata": {
    "id": "GI125wJWKbP4"
   },
   "source": [
    "Bài tập 5*: Viết hàm trực quan hóa thể hiện mối tương quan giữa tổng diện tích (total_sqft) và giá nhà (price) theo từng vị trí địa lí (location) (tùy chọn minh họa theo 2 vị trí nào đó), của những căn nhà có 2 hoặc 3 phòng. Và cần phân biệt rõ điểm dữ liệu nào tương ứng với nhà có 2 phòng, điểm nào tương ứng với nhà có 3 phòng?\n",
    "\n",
    "Gợi ý: Kết quả tương tự như hình dưới/ hoặc biểu đồ khác có ý nghĩa tương đương\n",
    "\n",
    "![viz.png](data:image/png;base64,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)"
   ]
  },
  {
   "cell_type": "code",
   "execution_count": null,
   "metadata": {
    "id": "ZE5Do-K8xXyp"
   },
   "outputs": [],
   "source": [
    "#Gợi ý: Sử dụng plt.scatter() .... hoạc câu lệnh khác tương đương. Làm với df9\n",
    "\n",
    "def plot_scatter_chart(df,location):\n",
    "  #Viết code ở đây"
   ]
  },
  {
   "cell_type": "code",
   "execution_count": null,
   "metadata": {
    "id": "OWYS0z-wyD3d"
   },
   "outputs": [],
   "source": [
    "plot_scatter_chart(df9, \"Hebbal\")"
   ]
  },
  {
   "cell_type": "markdown",
   "metadata": {
    "id": "uSVcpIgYmMo8"
   },
   "source": [
    "Bài tập 6*: Thực hiện các câu lệnh để trả lời các câu hỏi dưới đây:\n",
    "\n",
    "* Thống kê giá nhà theo từng loại khu vực (area_type). Làm với df9:\n",
    "* xem xét theo từng khu vực, thì giá nhà trung bình (price_per_sqft) là bao nhiêu, tương quan về giá nhà trung bình giữa các khu vực\n",
    "\n",
    "*Gợi ý*: Phần này có thể đưa ra kết quả dạng bảng hoặc biểu đồ (cột, histogram, ...).\n",
    " - Sử dụng các lệnh: df.groupby(), df.sortvalues(), ... để trích xuất giá trị\n",
    " - Sử dụng matplotlib: plt.bar(), ...\n"
   ]
  },
  {
   "cell_type": "code",
   "execution_count": null,
   "metadata": {
    "id": "pWS_6MLbCxLu"
   },
   "outputs": [],
   "source": [
    "# Code ở đây"
   ]
  }
 ],
 "metadata": {
  "colab": {
   "provenance": []
  },
  "kernelspec": {
   "display_name": "Python 3 (ipykernel)",
   "language": "python",
   "name": "python3"
  },
  "language_info": {
   "codemirror_mode": {
    "name": "ipython",
    "version": 3
   },
   "file_extension": ".py",
   "mimetype": "text/x-python",
   "name": "python",
   "nbconvert_exporter": "python",
   "pygments_lexer": "ipython3",
   "version": "3.11.7"
  }
 },
 "nbformat": 4,
 "nbformat_minor": 4
}
